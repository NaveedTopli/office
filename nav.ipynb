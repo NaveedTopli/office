{
 "cells": [
  {
   "cell_type": "markdown",
   "metadata": {},
   "source": [
    "# The ABC company has hired you as an intern on the coding team that creates e-commerce applications.  \n",
    "You must write a script that asks the user for a value. The value must be used as a whole number in a calculation, even if the user enters a decimal value. \n",
    "\n",
    "You need to write the code to meet the requirements."
   ]
  },
  {
   "cell_type": "code",
   "execution_count": 1,
   "metadata": {},
   "outputs": [
    {
     "name": "stdout",
     "output_type": "stream",
     "text": [
      "Enter Number: 78.854\n",
      "78\n"
     ]
    }
   ],
   "source": [
    "input_a = float(input(\"Enter Number: \"))\n",
    "result_a = int(input_a)\n",
    "print(result_a)"
   ]
  },
  {
   "cell_type": "markdown",
   "metadata": {},
   "source": [
    "# You are creating a Python program that shows a congratulation message to employees on their service anniversary.\n",
    "You need to calculate the number of years of service and print a congratulatory message. You should take the inputs from the users where necessary"
   ]
  },
  {
   "cell_type": "code",
   "execution_count": 2,
   "metadata": {},
   "outputs": [
    {
     "name": "stdout",
     "output_type": "stream",
     "text": [
      "Please Enter Name: Nadeem\n",
      "Please Enter Joining Year: 2002\n",
      "Please Enter Leaving Year: 2019\n",
      "Congratulation Mr Nadeem you have completed your 17 Year Services. Thank You for being part of us.\n"
     ]
    }
   ],
   "source": [
    "input_name = input(\"Please Enter Name: \")\n",
    "input_start = int(input(\"Please Enter Joining Year: \"))\n",
    "input_end = int(input(\"Please Enter Leaving Year: \"))\n",
    "result_b =  str(input_end - input_start)\n",
    "print(\"Congratulation Mr \" + input_name + \" you have completed your \" + result_b + \" Year Services. Thank You for being part of us.\")"
   ]
  },
  {
   "cell_type": "markdown",
   "metadata": {},
   "source": [
    "# Write a Python program to convert temperatures  from fahrenheit to celsius, \n",
    "#step 1: take \"fahrenheit Temperature\" from user in integer data type\n",
    "#step 2: apply formula that is       (  C = (5/9) * (fahrenheit_temperature - 32)  )\n",
    "#step 3: print step 2. "
   ]
  },
  {
   "cell_type": "code",
   "execution_count": 4,
   "metadata": {},
   "outputs": [
    {
     "name": "stdout",
     "output_type": "stream",
     "text": [
      "Enter Number: 138\n",
      "58.88888888888889\n"
     ]
    }
   ],
   "source": [
    "forenheit_temp = int(input(\"Enter Number: \"))\n",
    "formula_temp = ((5/9) * (forenheit_temp - 32))\n",
    "print(formula_temp)"
   ]
  },
  {
   "cell_type": "markdown",
   "metadata": {},
   "source": [
    "<h3>assign a vlue to grade by checking the following conditions:: </h3>\n",
    "<h3>if % is greater then and equal to 90 and less then 100 grade is A+ </h3>\n",
    "<h3>if % is greater then and equal to 80 and less then 90 grade is A </h3>\n",
    "<h3>if % is greater then and equal to 70 and less then 80 grade is B </h3>\n",
    "<h3>if % is greater then and equal to 60 and less then 70 grade is C </h3>\n",
    "<h3>if % is less than 60 grade is FAIL </h3>\n"
   ]
  },
  {
   "cell_type": "code",
   "execution_count": 7,
   "metadata": {},
   "outputs": [
    {
     "name": "stdout",
     "output_type": "stream",
     "text": [
      "\t Your Grade is B\n"
     ]
    }
   ],
   "source": [
    "maths = 60\n",
    "physics = 72\n",
    "urdu = 89\n",
    "chemistry = 78\n",
    "islamiat = 91\n",
    "total_marks = 500\n",
    "total_obtained = (maths + physics + urdu + chemistry + islamiat)\n",
    "result_marks = int((total_obtained / total_marks) * 100)\n",
    "\n",
    "if result_marks >= 90 and result_marks < 100 :\n",
    "    grading = \"A1\"\n",
    "    print('\\t Your Grade is A1')\n",
    "elif result_marks >= 80 and result_marks < 90 :\n",
    "    grading = \"A\"\n",
    "    print('\\t Your Grade is A')\n",
    "elif result_marks >= 70 and result_marks < 80 :\n",
    "    grading = \"B\"\n",
    "    print('\\t Your Grade is B')\n",
    "elif result_marks >= 60 and result_marks < 70 :\n",
    "    grading = \"C\"\n",
    "    print('\\t Your Grade is C')\n",
    "elif result_marks < 50:\n",
    "        grading = \"FAIL\"\n",
    "        print('You Are Fail')  \n",
    "\n",
    "\n",
    "\n",
    "\n",
    "\n",
    "    \n"
   ]
  },
  {
   "cell_type": "code",
   "execution_count": null,
   "metadata": {},
   "outputs": [],
   "source": []
  },
  {
   "cell_type": "code",
   "execution_count": null,
   "metadata": {},
   "outputs": [],
   "source": []
  },
  {
   "cell_type": "markdown",
   "metadata": {},
   "source": [
    "<h3>Print grade percentage and obtained marks</h3>"
   ]
  },
  {
   "cell_type": "code",
   "execution_count": 13,
   "metadata": {},
   "outputs": [
    {
     "name": "stdout",
     "output_type": "stream",
     "text": [
      "Total Marks Obtained  390 & your achived Percentage is 78 %  in Grade B\n"
     ]
    }
   ],
   "source": [
    "sub_maths = 60\n",
    "sub_physics = 72\n",
    "sub_urdu = 89\n",
    "sub_chemistry = 78\n",
    "sub_islamiat = 91\n",
    "sub_total_marks = 500\n",
    "sub_total_obtained = (sub_maths + sub_physics + sub_urdu + sub_chemistry + sub_islamiat)\n",
    "sub_result_marks = int((sub_total_obtained / sub_total_marks) * 100)\n",
    "\n",
    "if sub_result_marks >= 90 and sub_result_marks < 100 :\n",
    "    grading = \"A1\"\n",
    "elif sub_result_marks >= 80 and sub_result_marks < 90 :\n",
    "    grading = \"A\"\n",
    "elif sub_result_marks >= 70 and sub_result_marks < 80 :\n",
    "    grading = \"B\"\n",
    "elif sub_result_marks >= 60 and sub_result_marks < 70 :\n",
    "    grading = \"C\"\n",
    "elif sub_result_marks < 50:\n",
    "        grading = \"FAIL\"\n",
    "\n",
    "print(\"Total Marks Obtained \", total_obtained, \"& your achived Percentage is\", result_marks, \"%\", \" in Grade\", grading)"
   ]
  },
  {
   "cell_type": "code",
   "execution_count": null,
   "metadata": {},
   "outputs": [],
   "source": []
  }
 ],
 "metadata": {
  "kernelspec": {
   "display_name": "Python 3",
   "language": "python",
   "name": "python3"
  },
  "language_info": {
   "codemirror_mode": {
    "name": "ipython",
    "version": 3
   },
   "file_extension": ".py",
   "mimetype": "text/x-python",
   "name": "python",
   "nbconvert_exporter": "python",
   "pygments_lexer": "ipython3",
   "version": "3.7.3"
  }
 },
 "nbformat": 4,
 "nbformat_minor": 2
}
